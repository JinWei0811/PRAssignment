{
 "cells": [
  {
   "cell_type": "code",
   "execution_count": 1,
   "metadata": {},
   "outputs": [
    {
     "name": "stderr",
     "output_type": "stream",
     "text": [
      "C:\\ProgramData\\Anaconda3\\lib\\site-packages\\ipykernel\\parentpoller.py:116: UserWarning: Parent poll failed.  If the frontend dies,\n",
      "                the kernel may be left running.  Please let us know\n",
      "                about your system (bitness, Python, etc.) at\n",
      "                ipython-dev@scipy.org\n",
      "  ipython-dev@scipy.org\"\"\")\n"
     ]
    }
   ],
   "source": [
    "import numpy as np\n",
    "import matplotlib.pyplot as plt\n",
    "from PIL import Image\n",
    "from scipy import stats\n",
    "import cv2"
   ]
  },
  {
   "cell_type": "code",
   "execution_count": null,
   "metadata": {},
   "outputs": [],
   "source": [
    "array=[0,0]\n",
    "RGB=np.empty([1000000,3])\n",
    "y=np.empty([1000000,1])\n",
    "R1=237\n",
    "G1=244\n",
    "B1=252\n",
    "aa=84\n",
    "\n",
    "for re in range(84):\n",
    "    a='full_duck/images/full_duck_'\n",
    "    b=str(re+1)\n",
    "    c='.jpg'\n",
    "    d=a+b+c\n",
    "    im = Image.open(d)\n",
    "    pix = im.load()\n",
    "    array = im.size\n",
    "    times = 0;\n",
    "\n",
    "\n",
    "    count = 0\n",
    "    for a in range(array[0]):\n",
    "        for b in range(array[1]):\n",
    "            R,G,B=pix[a,b]\n",
    "            if(R>=R1-50 and R<=R1+50):\n",
    "                #if(R<R1+5):\n",
    "                if(G>=G1-50 and G<=G1+50):\n",
    "                    if(B>=B1-50 and B<=B1+50):\n",
    "                        count=count+1\n",
    "                    else:\n",
    "                        im.putpixel((a,b),(0,0,0))\n",
    "                else:\n",
    "                    im.putpixel((a,b),(0,0,0))\n",
    "            else:\n",
    "                im.putpixel((a,b),(0,0,0))\n",
    "    a1='full_duck/images/full_duck_gray_'\n",
    "    b1=str(re+1)\n",
    "    c1='.jpg'\n",
    "    d1=a1+b1+c1\n",
    "    im.save(d1)"
   ]
  },
  {
   "cell_type": "code",
   "execution_count": null,
   "metadata": {},
   "outputs": [],
   "source": [
    "for rre in range(84):\n",
    "    aa='full_duck/images/full_duck_'\n",
    "    bb=str(rre+1)\n",
    "    cc='.jpg'\n",
    "    dd=aa+bb+cc\n",
    "    img = cv2.imread(dd)\n",
    "    \n",
    "    kernel = cv2.getStructuringElement(cv2.MORPH_RECT,(3, 3))\n",
    "\n",
    "    eroded = cv2.erode(img,kernel)\n",
    "    dilated = cv2.dilate(img,kernel)\n",
    "    dilated = cv2.dilate(img,kernel)\n",
    "    eroded = cv2.erode(img,kernel)\n",
    "    NpKernel = np.uint8(np.ones((3,3)))\n",
    "    Nperoded = cv2.erode(img,NpKernel)\n",
    "    \n",
    "    gray = cv2.cvtColor(img,cv2.COLOR_BGR2GRAY)\n",
    "    \n",
    "    ret, binary = cv2.threshold(gray,127,255,cv2.THRESH_BINARY)\n",
    " \n",
    "    _,contours,_ = cv2.findContours(binary,cv2.RETR_TREE,cv2.CHAIN_APPROX_SIMPLE)\n",
    "    cv2.drawContours(img,contours,-1,(0,0,255),3)\n",
    "    \n",
    "    ee=aa+'red_'+bb+cc\n",
    "    im.save(ee)\n"
   ]
  },
  {
   "cell_type": "code",
   "execution_count": null,
   "metadata": {},
   "outputs": [],
   "source": []
  }
 ],
 "metadata": {
  "kernelspec": {
   "display_name": "Python 3",
   "language": "python",
   "name": "python3"
  }
 },
 "nbformat": 4,
 "nbformat_minor": 2
}
